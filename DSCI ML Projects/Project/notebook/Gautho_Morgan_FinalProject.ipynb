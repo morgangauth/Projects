{
  "nbformat": 4,
  "nbformat_minor": 0,
  "metadata": {
    "colab": {
      "provenance": []
    },
    "kernelspec": {
      "name": "python3",
      "display_name": "Python 3"
    },
    "language_info": {
      "name": "python"
    }
  },
  "cells": [
    {
      "cell_type": "code",
      "execution_count": 1,
      "metadata": {
        "id": "IxvycrxCeoGk"
      },
      "outputs": [],
      "source": []
    },
    {
      "cell_type": "markdown",
      "source": [
        "<h1>DSCI-552 Final Project</h1>\n",
        "<br>\n",
        "<font size=\"4\">Morgan Gautho | GitHub: morgangauth | 3944-8632-72</font>\n",
        "    "
      ],
      "metadata": {
        "id": "6yog6CWAesIc"
      }
    },
    {
      "cell_type": "code",
      "source": [
        "import pandas as pd\n",
        "import numpy as np\n",
        "import glob\n",
        "import os\n",
        "import seaborn as sns\n",
        "import matplotlib.pyplot as plt\n",
        "import math\n",
        "import tensorflow as tf\n",
        "from tensorflow import keras\n",
        "import tensorflow.keras.layers as tfl\n",
        "from google.colab import drive \n",
        "import shutil\n",
        "import cv2\n",
        "\n",
        "from tensorflow.keras.preprocessing import image_dataset_from_directory\n",
        "from tensorflow.keras.layers.experimental.preprocessing import RandomFlip, RandomRotation\n",
        "from tensorflow.keras.models import Sequential\n",
        "from tensorflow.keras import layers\n",
        "\n",
        "\n",
        "\n",
        "import warnings\n",
        "warnings.filterwarnings('ignore')"
      ],
      "metadata": {
        "id": "CI2yIqZfesla"
      },
      "execution_count": 2,
      "outputs": []
    },
    {
      "cell_type": "code",
      "source": [
        "drive.mount(\"/content/drive\")\n",
        "\n"
      ],
      "metadata": {
        "colab": {
          "base_uri": "https://localhost:8080/"
        },
        "id": "DGjgSpxQGI3F",
        "outputId": "537c9367-7bec-43c0-bd00-1b49d4aeb7ec"
      },
      "execution_count": 3,
      "outputs": [
        {
          "output_type": "stream",
          "name": "stdout",
          "text": [
            "Mounted at /content/drive\n"
          ]
        }
      ]
    },
    {
      "cell_type": "markdown",
      "source": [
        "# 1. Transfer Learning for Image Classification\n",
        "\n",
        "## (b) Data Exploration and Pre-processing\n",
        "\n",
        "i. Images in each class are given in separate folders. The file Classes.xlsx pro\u0002vides the classes assigned to the bird species images in each folder. Therefore,\n",
        "you encode your classes using one-hot encoding and Classes.xlsx.\n",
        "\n",
        "ii. Randomly select d0.7nie images from each folder as your training set, d0.15nie\n",
        "as validation set, and the rest as your test set, where ni\n",
        "is the number of\n",
        "images in folder i and dxe is the ceiling of x.\n",
        "\n",
        "iii. In order for all the images to have the same size, zero-pad or resize the images\n",
        "in your dataset. This can be done using various tools, including OpenCV.\n"
      ],
      "metadata": {
        "id": "PAUwtQyD-tSQ"
      }
    },
    {
      "cell_type": "code",
      "source": [
        "# one time use to create folders\n",
        "root_dir = '/content/drive/MyDrive/ColabNotebooks/Project/'\n",
        "if not os.path.exists(root_dir + '/output'):\n",
        "  os.makedirs(root_dir +'/output')\n",
        "root_dir = '/content/drive/MyDrive/ColabNotebooks/Project/output/'\n",
        "for i in ['train','test','val']:\n",
        "  if not os.path.exists(root_dir + i):\n",
        "    os.makedirs(root_dir + i)\n"
      ],
      "metadata": {
        "id": "3_Z31egKyz2J"
      },
      "execution_count": 4,
      "outputs": []
    },
    {
      "cell_type": "code",
      "source": [
        "def partition_pct(lst, point):\n",
        "    idx =  math.ceil(len(lst) * point)\n",
        "    return lst[:idx], lst[idx:]\n",
        "\n",
        "directory = \"/content/drive/MyDrive/ColabNotebooks/Project/Data/\"\n",
        "names = pd.read_excel(directory + \"Classes.xlsx\", names=[\"Folder\",\"Class\"])  \n",
        "for i in names[\"Folder\"]:\n",
        "  if not os.path.exists(root_dir + '/train/'+i):\n",
        "    os.makedirs(root_dir +'/train/'+i)\n",
        "  if not os.path.exists(root_dir + '/test/'+i):\n",
        "    os.makedirs(root_dir +'/test/'+i)\n",
        "  if not os.path.exists(root_dir + '/val/'+i):\n",
        "    os.makedirs(root_dir +'/val/'+i)\n",
        "  lst = os.listdir(directory + '/images/' + i)\n",
        "  cnv_list_70, cnv_list_30 = partition_pct(lst, .7)\n",
        "  cnv_list_15_1, cnv_list_15_2 = partition_pct(cnv_list_30, .5)\n",
        "  print(\"Starting directory split of \" + i + \"...\")\n",
        "  for (file_list, dirname) in ((cnv_list_70, root_dir +'/train/'+i),\n",
        "                             (cnv_list_15_1, root_dir +'/test/'+i),\n",
        "                             (cnv_list_15_2, root_dir +'/val/'+i)):\n",
        "    for f in file_list:\n",
        "      path = directory + '/images/' + i + '/' + f\n",
        "      img = cv2.imread(path, cv2.IMREAD_UNCHANGED)\n",
        "      width = 224\n",
        "      height = 224\n",
        "      dim = (width, height)\n",
        "      resized = cv2.resize(img, dim, interpolation = cv2.INTER_AREA)\n",
        "      cv2.imwrite(dirname + '/' + f, resized)\n",
        "      #shutil.copy(directory + '/images/' + i + '/' + f, dirname)\n",
        "  \n",
        "  "
      ],
      "metadata": {
        "colab": {
          "base_uri": "https://localhost:8080/"
        },
        "id": "xOtgdqn0ewbA",
        "outputId": "e87c0495-8027-429f-e8b3-48957d4f5dab"
      },
      "execution_count": 5,
      "outputs": [
        {
          "output_type": "stream",
          "name": "stdout",
          "text": [
            "Starting directory split of 005.Crested_Auklet...\n",
            "Starting directory split of 013.Bobolink...\n",
            "Starting directory split of 015.Lazuli_Bunting...\n",
            "Starting directory split of 023.Brandt_Cormorant...\n",
            "Starting directory split of 040.Olive_sided_Flycatcher...\n",
            "Starting directory split of 041.Scissor_tailed_Flycatcher...\n",
            "Starting directory split of 067.Anna_Hummingbird...\n",
            "Starting directory split of 072.Pomarine_Jaeger...\n",
            "Starting directory split of 076.Dark_eyed_Junco...\n",
            "Starting directory split of 081.Pied_Kingfisher...\n",
            "Starting directory split of 082.Ringed_Kingfisher...\n",
            "Starting directory split of 086.Pacific_Loon...\n",
            "Starting directory split of 099.Ovenbird...\n",
            "Starting directory split of 104.American_Pipit...\n",
            "Starting directory split of 127.Savannah_Sparrow...\n",
            "Starting directory split of 135.Bank_Swallow...\n",
            "Starting directory split of 141.Artic_Tern...\n",
            "Starting directory split of 149.Brown_Thrasher...\n",
            "Starting directory split of 156.White_eyed_Vireo...\n",
            "Starting directory split of 168.Kentucky_Warbler...\n"
          ]
        }
      ]
    },
    {
      "cell_type": "code",
      "source": [
        "IMG_SIZE = (224, 224)\n",
        "BATCH_SIZE = 5\n",
        "#root_dir = '/content/drive/MyDrive/ColabNotebooks/Project/output/' defined above\n",
        "train_dataset = image_dataset_from_directory(root_dir + 'train/',\n",
        "                                             shuffle=True,\n",
        "                                             batch_size=BATCH_SIZE,\n",
        "                                             image_size=IMG_SIZE,\n",
        "                                             label_mode='categorical',\n",
        "                                             seed=42)\n",
        "test_dataset = image_dataset_from_directory(root_dir + 'test/',\n",
        "                                             shuffle=False,\n",
        "                                             batch_size=BATCH_SIZE,\n",
        "                                             image_size=IMG_SIZE,\n",
        "                                             label_mode='categorical',\n",
        "                                             seed=42)\n",
        "validation_dataset = image_dataset_from_directory(root_dir + 'val/',\n",
        "                                             shuffle=True,\n",
        "                                             batch_size=BATCH_SIZE,\n",
        "                                             image_size=IMG_SIZE,\n",
        "                                             label_mode='categorical',\n",
        "                                             seed=42)\n",
        "num_classes = len(names)\n",
        "#train_data = train_dataset.map(lambda x, y: (x, tf.one_hot(y, depth=num_classes)))\n",
        "#val_data = validation_dataset.map(lambda x, y: (x, tf.one_hot(y, depth=num_classes)))"
      ],
      "metadata": {
        "colab": {
          "base_uri": "https://localhost:8080/"
        },
        "id": "oN1KudiBFrub",
        "outputId": "df4382b9-d29c-4a90-fd95-7e2cc4994148"
      },
      "execution_count": 6,
      "outputs": [
        {
          "output_type": "stream",
          "name": "stdout",
          "text": [
            "Found 827 files belonging to 20 classes.\n",
            "Found 185 files belonging to 20 classes.\n",
            "Found 178 files belonging to 20 classes.\n"
          ]
        }
      ]
    },
    {
      "cell_type": "markdown",
      "source": [
        "## (c) Transfer Learning\n",
        "\n",
        "i. When dealing with classification of relatively small image datasets, deep net\u0002works may not perform very well because of not having enough data to train\n",
        "them. In such cases, one usually uses transfer learning, which uses deep\n",
        "learning models that are trained on very large datasets such as ImageNet\n",
        "as feature extractors. The idea is that such deep networks have learned to\n",
        "extract meaningful features from an image using their layers, and those fea\u0002tures can be used in learning other tasks. In order to do that, usually the\n",
        "last layer or the last few layers of the pre-trained network are removed, and\n",
        "the response of the layer before the removed layers to the images in the new\n",
        "dataset is used as a feature vector to train one more multiple replacement lay\u0002ers. The dataset in this task has only around 50-60 images per class. Given\n",
        "that we have 20 classes, training a deep network with such a small dataset\n",
        "may not yield desirable results. \n",
        "\n",
        "In this project, you will use pre-trained mod\u0002els EfficientNetB0 and VGG16. For both pre-trained networks, you will only\n",
        "train the last fully connected layer, and will freeze all layers before them (i.e.\n",
        "we do not change their parameters during training) and use the outputs of the\n",
        "penultimate layer in the original pre-trained model as the features extracted\n",
        "from each image.\n"
      ],
      "metadata": {
        "id": "j2j8p5ld-8Gg"
      }
    },
    {
      "cell_type": "code",
      "source": [
        "from tensorflow.keras.applications import EfficientNetB0\n",
        "base_model1 = EfficientNetB0(include_top=False, weights='imagenet')\n",
        "base_model1.trainable = False ## Not trainable weights\n",
        "\n",
        "from tensorflow.keras.applications.vgg16 import VGG16\n",
        "from tensorflow.keras.applications.vgg16 import preprocess_input\n",
        "\n",
        "base_model2 = VGG16(weights=\"imagenet\", include_top=False)\n",
        "base_model2.trainable = False ## Not trainable weights\n",
        "\n"
      ],
      "metadata": {
        "colab": {
          "base_uri": "https://localhost:8080/"
        },
        "id": "eIeK1CegV1Y2",
        "outputId": "e666dbeb-66c6-45b3-996c-685620a3ec93"
      },
      "execution_count": 7,
      "outputs": [
        {
          "output_type": "stream",
          "name": "stdout",
          "text": [
            "Downloading data from https://storage.googleapis.com/keras-applications/efficientnetb0_notop.h5\n",
            "16705208/16705208 [==============================] - 0s 0us/step\n",
            "Downloading data from https://storage.googleapis.com/tensorflow/keras-applications/vgg16/vgg16_weights_tf_dim_ordering_tf_kernels_notop.h5\n",
            "58889256/58889256 [==============================] - 0s 0us/step\n"
          ]
        }
      ]
    },
    {
      "cell_type": "code",
      "source": [],
      "metadata": {
        "id": "K16n5_W4Am-X"
      },
      "execution_count": 7,
      "outputs": []
    },
    {
      "cell_type": "markdown",
      "source": [
        "\n",
        "ii. To perform empirical regularization, crop, randomly zoo, rotate, flip, contrast,\n",
        "and translate images in your training set for image augmentation. You can\n",
        "use various tools to do this, including OpenCV."
      ],
      "metadata": {
        "id": "DijHrwvjV1uW"
      }
    },
    {
      "cell_type": "code",
      "source": [
        "img_augmentation = Sequential(\n",
        "    [\n",
        "        layers.RandomRotation(factor=0.15),\n",
        "        layers.RandomTranslation(height_factor=0.1, width_factor=0.1),\n",
        "        layers.RandomFlip(),\n",
        "        layers.RandomContrast(factor=0.1),\n",
        "        layers.RandomZoom(fill_mode= \"nearest\", height_factor = (-0.3, 0.3))\n",
        "    ],\n",
        "    name=\"img_augmentation\",\n",
        ")"
      ],
      "metadata": {
        "id": "DeariAl6yyfX"
      },
      "execution_count": 8,
      "outputs": []
    },
    {
      "cell_type": "markdown",
      "source": [
        "iii. Use ReLU activation functions in the last layer and a softmax layer, along\n",
        "with batch normalization and a dropout rate of 20% as well as ADAM optimizer. Use multinomial cross entropy loss. You can try any batch size,\n",
        "but a batch size of 5 seems reasonable."
      ],
      "metadata": {
        "id": "S77R6xXDPWxu"
      }
    },
    {
      "cell_type": "code",
      "source": [
        "# Rebuild model\n",
        "\n",
        "def build_model1():\n",
        "    inputs = layers.Input(shape=(224, 224, 3))\n",
        "    x = img_augmentation(inputs)\n",
        "\n",
        "    base_model = EfficientNetB0(include_top=False, input_tensor = x, weights='imagenet')\n",
        "    base_model.trainable = False ## Not trainable weights\n",
        "    \n",
        "    # Rebuild top\n",
        "    # relu activation functions\n",
        "    # softmax\n",
        "    # batch normalization \n",
        "    x = layers.GlobalAveragePooling2D(name=\"avg_pool\")(base_model.output)\n",
        "    x = layers.Dense(num_classes, activation=\"relu\")(x) \n",
        "    x = layers.BatchNormalization()(x)\n",
        "    \n",
        "    \n",
        "    top_dropout_rate = 0.2\n",
        "    x = layers.Dropout(top_dropout_rate, name=\"top_dropout\")(x)\n",
        "    \n",
        "    outputs = layers.Dense(num_classes, activation=\"softmax\", name=\"pred\")(x)\n",
        "    \n",
        "    # Compile\n",
        "    model = tf.keras.Model(inputs, outputs, name=\"efficient\")\n",
        "    print(\"test\")\n",
        "    optimizer = tf.keras.optimizers.Adam(learning_rate=1e-2)\n",
        "    model.compile(\n",
        "        optimizer=optimizer, loss=\"categorical_crossentropy\", metrics=[\"accuracy\"]\n",
        "    )\n",
        "    return model"
      ],
      "metadata": {
        "id": "iM36XLaDcL1G"
      },
      "execution_count": 9,
      "outputs": []
    },
    {
      "cell_type": "code",
      "source": [
        "model1 = build_model1()\n",
        "\n"
      ],
      "metadata": {
        "colab": {
          "base_uri": "https://localhost:8080/"
        },
        "id": "pSEXB4INbINy",
        "outputId": "5e5bb1cf-1eda-4554-cf1a-ba4678c0e4c9"
      },
      "execution_count": 10,
      "outputs": [
        {
          "output_type": "stream",
          "name": "stdout",
          "text": [
            "test\n"
          ]
        }
      ]
    },
    {
      "cell_type": "code",
      "source": [
        "# Rebuild model\n",
        "\n",
        "def build_model2():\n",
        "    inputs = layers.Input(shape=(224, 224, 3))\n",
        "    x = img_augmentation(inputs)\n",
        "\n",
        "    base_model = VGG16(include_top=False, input_tensor = x, weights='imagenet')\n",
        "    base_model.trainable = False ## Not trainable weights\n",
        "    \n",
        "    # Rebuild top\n",
        "    # relu activation functions\n",
        "    # softmax\n",
        "    # batch normalization \n",
        "    x = layers.GlobalAveragePooling2D(name=\"avg_pool\")(base_model.output)\n",
        "    x = layers.Dense(num_classes, activation=\"relu\")(x) \n",
        "    x = layers.BatchNormalization()(x)\n",
        "    \n",
        "    \n",
        "    top_dropout_rate = 0.2\n",
        "    x = layers.Dropout(top_dropout_rate, name=\"top_dropout\")(x)\n",
        "    \n",
        "    outputs = layers.Dense(num_classes, activation=\"softmax\", name=\"pred\")(x)\n",
        "    \n",
        "    # Compile\n",
        "    model = tf.keras.Model(inputs, outputs, name=\"vgg\")\n",
        "    print(\"test\")\n",
        "    optimizer = tf.keras.optimizers.Adam(learning_rate=1e-2)\n",
        "    model.compile(\n",
        "        optimizer=optimizer, loss=\"categorical_crossentropy\", metrics=[\"accuracy\"]\n",
        "    )\n",
        "    return model"
      ],
      "metadata": {
        "id": "6KqRN46XWfBv"
      },
      "execution_count": 11,
      "outputs": []
    },
    {
      "cell_type": "code",
      "source": [
        "model2 = build_model2()"
      ],
      "metadata": {
        "colab": {
          "base_uri": "https://localhost:8080/"
        },
        "id": "BNaz0mz7WrUr",
        "outputId": "c2b20edc-5e48-461f-f3f3-8475c5bc42c1"
      },
      "execution_count": 12,
      "outputs": [
        {
          "output_type": "stream",
          "name": "stdout",
          "text": [
            "test\n"
          ]
        }
      ]
    },
    {
      "cell_type": "markdown",
      "source": [
        "\n",
        "iv. Train the networks (EfficientNetB0 and VGG16) for at least 50 epochs\n",
        "(preferably 100 epochs) and perform early stopping using the validation set.\n",
        "Keep the network parameters that have the lowest validation error. Plot the\n",
        "training and validation errors vs. epochs.\n",
        " "
      ],
      "metadata": {
        "id": "xlSbiiKDcMXt"
      }
    },
    {
      "cell_type": "code",
      "source": [
        "from tensorflow.keras.callbacks import EarlyStopping\n",
        "epochs = 50\n",
        "es = EarlyStopping(monitor='val_accuracy', mode='max', patience=5,  restore_best_weights=True)\n",
        "\n",
        "\n",
        "history1 = model1.fit(train_dataset, validation_data=validation_dataset, epochs=epochs, callbacks=[es])"
      ],
      "metadata": {
        "id": "B1LQHdN3i6Q0",
        "colab": {
          "base_uri": "https://localhost:8080/"
        },
        "outputId": "5a45e28a-bb56-4891-d273-eac0b2372665"
      },
      "execution_count": 13,
      "outputs": [
        {
          "output_type": "stream",
          "name": "stdout",
          "text": [
            "Epoch 1/50\n"
          ]
        },
        {
          "output_type": "stream",
          "name": "stderr",
          "text": [
            "WARNING:tensorflow:Using a while_loop for converting RngReadAndSkip\n",
            "WARNING:tensorflow:Using a while_loop for converting Bitcast\n",
            "WARNING:tensorflow:Using a while_loop for converting Bitcast\n",
            "WARNING:tensorflow:Using a while_loop for converting StatelessRandomUniformV2\n",
            "WARNING:tensorflow:Using a while_loop for converting RngReadAndSkip\n",
            "WARNING:tensorflow:Using a while_loop for converting Bitcast\n",
            "WARNING:tensorflow:Using a while_loop for converting Bitcast\n",
            "WARNING:tensorflow:Using a while_loop for converting StatelessRandomUniformV2\n",
            "WARNING:tensorflow:Using a while_loop for converting ImageProjectiveTransformV3\n",
            "WARNING:tensorflow:Using a while_loop for converting RngReadAndSkip\n",
            "WARNING:tensorflow:Using a while_loop for converting Bitcast\n",
            "WARNING:tensorflow:Using a while_loop for converting Bitcast\n",
            "WARNING:tensorflow:Using a while_loop for converting StatelessRandomUniformFullIntV2\n",
            "WARNING:tensorflow:Using a while_loop for converting StatelessRandomGetKeyCounter\n",
            "WARNING:tensorflow:Using a while_loop for converting StatelessRandomUniformV2\n",
            "WARNING:tensorflow:Using a while_loop for converting AdjustContrastv2\n",
            "WARNING:tensorflow:Using a while_loop for converting RngReadAndSkip\n",
            "WARNING:tensorflow:Using a while_loop for converting Bitcast\n",
            "WARNING:tensorflow:Using a while_loop for converting Bitcast\n",
            "WARNING:tensorflow:Using a while_loop for converting StatelessRandomUniformV2\n",
            "WARNING:tensorflow:Using a while_loop for converting RngReadAndSkip\n",
            "WARNING:tensorflow:Using a while_loop for converting Bitcast\n",
            "WARNING:tensorflow:Using a while_loop for converting Bitcast\n",
            "WARNING:tensorflow:Using a while_loop for converting StatelessRandomUniformV2\n",
            "WARNING:tensorflow:Using a while_loop for converting ImageProjectiveTransformV3\n",
            "WARNING:tensorflow:Using a while_loop for converting RngReadAndSkip\n",
            "WARNING:tensorflow:Using a while_loop for converting Bitcast\n",
            "WARNING:tensorflow:Using a while_loop for converting Bitcast\n",
            "WARNING:tensorflow:Using a while_loop for converting StatelessRandomUniformFullIntV2\n",
            "WARNING:tensorflow:Using a while_loop for converting StatelessRandomGetKeyCounter\n",
            "WARNING:tensorflow:Using a while_loop for converting StatelessRandomUniformV2\n",
            "WARNING:tensorflow:Using a while_loop for converting AdjustContrastv2\n"
          ]
        },
        {
          "output_type": "stream",
          "name": "stdout",
          "text": [
            "166/166 [==============================] - 88s 452ms/step - loss: 2.4880 - accuracy: 0.2346 - val_loss: 1.5065 - val_accuracy: 0.4944\n",
            "Epoch 2/50\n",
            "166/166 [==============================] - 73s 440ms/step - loss: 1.8410 - accuracy: 0.4172 - val_loss: 1.0698 - val_accuracy: 0.7022\n",
            "Epoch 3/50\n",
            "166/166 [==============================] - 73s 442ms/step - loss: 1.4992 - accuracy: 0.4994 - val_loss: 0.9133 - val_accuracy: 0.6685\n",
            "Epoch 4/50\n",
            "166/166 [==============================] - 76s 455ms/step - loss: 1.4513 - accuracy: 0.5284 - val_loss: 0.8404 - val_accuracy: 0.7303\n",
            "Epoch 5/50\n",
            "166/166 [==============================] - 74s 446ms/step - loss: 1.3552 - accuracy: 0.5671 - val_loss: 0.8481 - val_accuracy: 0.7528\n",
            "Epoch 6/50\n",
            "166/166 [==============================] - 74s 446ms/step - loss: 1.2768 - accuracy: 0.5913 - val_loss: 0.7899 - val_accuracy: 0.7528\n",
            "Epoch 7/50\n",
            "166/166 [==============================] - 74s 443ms/step - loss: 1.2141 - accuracy: 0.6252 - val_loss: 0.6947 - val_accuracy: 0.7753\n",
            "Epoch 8/50\n",
            "166/166 [==============================] - 75s 450ms/step - loss: 1.1725 - accuracy: 0.6324 - val_loss: 0.7084 - val_accuracy: 0.7921\n",
            "Epoch 9/50\n",
            "166/166 [==============================] - 74s 445ms/step - loss: 1.1626 - accuracy: 0.6397 - val_loss: 0.6987 - val_accuracy: 0.7921\n",
            "Epoch 10/50\n",
            "166/166 [==============================] - 74s 445ms/step - loss: 1.1021 - accuracy: 0.6590 - val_loss: 0.6166 - val_accuracy: 0.8202\n",
            "Epoch 11/50\n",
            "166/166 [==============================] - 74s 447ms/step - loss: 1.0829 - accuracy: 0.6675 - val_loss: 0.6070 - val_accuracy: 0.8258\n",
            "Epoch 12/50\n",
            "166/166 [==============================] - 74s 446ms/step - loss: 1.0588 - accuracy: 0.6711 - val_loss: 0.5482 - val_accuracy: 0.8427\n",
            "Epoch 13/50\n",
            "166/166 [==============================] - 75s 451ms/step - loss: 1.0070 - accuracy: 0.6832 - val_loss: 0.6076 - val_accuracy: 0.8202\n",
            "Epoch 14/50\n",
            "166/166 [==============================] - 74s 446ms/step - loss: 1.0258 - accuracy: 0.6929 - val_loss: 0.6328 - val_accuracy: 0.7697\n",
            "Epoch 15/50\n",
            "166/166 [==============================] - 74s 444ms/step - loss: 0.9731 - accuracy: 0.6844 - val_loss: 0.5698 - val_accuracy: 0.8202\n",
            "Epoch 16/50\n",
            "166/166 [==============================] - 73s 439ms/step - loss: 0.9266 - accuracy: 0.6977 - val_loss: 0.5351 - val_accuracy: 0.8652\n",
            "Epoch 17/50\n",
            "166/166 [==============================] - 73s 442ms/step - loss: 1.0499 - accuracy: 0.6675 - val_loss: 0.6384 - val_accuracy: 0.7865\n",
            "Epoch 18/50\n",
            "166/166 [==============================] - 76s 460ms/step - loss: 0.9190 - accuracy: 0.7195 - val_loss: 0.5785 - val_accuracy: 0.8258\n",
            "Epoch 19/50\n",
            "166/166 [==============================] - 76s 458ms/step - loss: 0.9544 - accuracy: 0.7146 - val_loss: 0.6236 - val_accuracy: 0.8258\n",
            "Epoch 20/50\n",
            "166/166 [==============================] - 78s 472ms/step - loss: 0.9536 - accuracy: 0.6965 - val_loss: 0.5842 - val_accuracy: 0.8090\n",
            "Epoch 21/50\n",
            "166/166 [==============================] - 75s 451ms/step - loss: 0.8274 - accuracy: 0.7340 - val_loss: 0.6235 - val_accuracy: 0.8146\n"
          ]
        }
      ]
    },
    {
      "cell_type": "code",
      "source": [
        "def preprocess(images, labels):\n",
        "  return tf.keras.applications.vgg16.preprocess_input(images), labels\n",
        "\n",
        "train_ds = train_dataset.map(preprocess)\n",
        "val_ds = validation_dataset.map(preprocess)\n",
        "\n",
        "history2 = model2.fit(train_ds, validation_data=val_ds, epochs=epochs, callbacks=[es])"
      ],
      "metadata": {
        "id": "u_tIWisIkYpX",
        "colab": {
          "base_uri": "https://localhost:8080/"
        },
        "outputId": "a234b67f-c44b-4713-d059-2e031dbe0446"
      },
      "execution_count": 14,
      "outputs": [
        {
          "output_type": "stream",
          "name": "stdout",
          "text": [
            "Epoch 1/50\n"
          ]
        },
        {
          "output_type": "stream",
          "name": "stderr",
          "text": [
            "WARNING:tensorflow:Using a while_loop for converting RngReadAndSkip\n",
            "WARNING:tensorflow:Using a while_loop for converting Bitcast\n",
            "WARNING:tensorflow:Using a while_loop for converting Bitcast\n",
            "WARNING:tensorflow:Using a while_loop for converting StatelessRandomUniformV2\n",
            "WARNING:tensorflow:Using a while_loop for converting RngReadAndSkip\n",
            "WARNING:tensorflow:Using a while_loop for converting Bitcast\n",
            "WARNING:tensorflow:Using a while_loop for converting Bitcast\n",
            "WARNING:tensorflow:Using a while_loop for converting StatelessRandomUniformV2\n",
            "WARNING:tensorflow:Using a while_loop for converting ImageProjectiveTransformV3\n",
            "WARNING:tensorflow:Using a while_loop for converting RngReadAndSkip\n",
            "WARNING:tensorflow:Using a while_loop for converting Bitcast\n",
            "WARNING:tensorflow:Using a while_loop for converting Bitcast\n",
            "WARNING:tensorflow:Using a while_loop for converting StatelessRandomUniformFullIntV2\n",
            "WARNING:tensorflow:Using a while_loop for converting StatelessRandomGetKeyCounter\n",
            "WARNING:tensorflow:Using a while_loop for converting StatelessRandomUniformV2\n",
            "WARNING:tensorflow:Using a while_loop for converting AdjustContrastv2\n",
            "WARNING:tensorflow:Using a while_loop for converting RngReadAndSkip\n",
            "WARNING:tensorflow:Using a while_loop for converting Bitcast\n",
            "WARNING:tensorflow:Using a while_loop for converting Bitcast\n",
            "WARNING:tensorflow:Using a while_loop for converting StatelessRandomUniformV2\n",
            "WARNING:tensorflow:Using a while_loop for converting RngReadAndSkip\n",
            "WARNING:tensorflow:Using a while_loop for converting Bitcast\n",
            "WARNING:tensorflow:Using a while_loop for converting Bitcast\n",
            "WARNING:tensorflow:Using a while_loop for converting StatelessRandomUniformV2\n",
            "WARNING:tensorflow:Using a while_loop for converting ImageProjectiveTransformV3\n",
            "WARNING:tensorflow:Using a while_loop for converting RngReadAndSkip\n",
            "WARNING:tensorflow:Using a while_loop for converting Bitcast\n",
            "WARNING:tensorflow:Using a while_loop for converting Bitcast\n",
            "WARNING:tensorflow:Using a while_loop for converting StatelessRandomUniformFullIntV2\n",
            "WARNING:tensorflow:Using a while_loop for converting StatelessRandomGetKeyCounter\n",
            "WARNING:tensorflow:Using a while_loop for converting StatelessRandomUniformV2\n",
            "WARNING:tensorflow:Using a while_loop for converting AdjustContrastv2\n"
          ]
        },
        {
          "output_type": "stream",
          "name": "stdout",
          "text": [
            "166/166 [==============================] - 482s 3s/step - loss: 2.9044 - accuracy: 0.1004 - val_loss: 3.2527 - val_accuracy: 0.1629\n",
            "Epoch 2/50\n",
            "166/166 [==============================] - 474s 3s/step - loss: 2.7339 - accuracy: 0.1282 - val_loss: 2.5637 - val_accuracy: 0.2079\n",
            "Epoch 3/50\n",
            "166/166 [==============================] - 474s 3s/step - loss: 2.5956 - accuracy: 0.1693 - val_loss: 2.4581 - val_accuracy: 0.2528\n",
            "Epoch 4/50\n",
            "166/166 [==============================] - 476s 3s/step - loss: 2.5440 - accuracy: 0.2068 - val_loss: 2.5462 - val_accuracy: 0.2528\n",
            "Epoch 5/50\n",
            "166/166 [==============================] - 474s 3s/step - loss: 2.4814 - accuracy: 0.1947 - val_loss: 2.7229 - val_accuracy: 0.2753\n",
            "Epoch 6/50\n",
            "166/166 [==============================] - 473s 3s/step - loss: 2.5078 - accuracy: 0.1947 - val_loss: 2.3574 - val_accuracy: 0.2978\n",
            "Epoch 7/50\n",
            "166/166 [==============================] - 475s 3s/step - loss: 2.4757 - accuracy: 0.2249 - val_loss: 2.3191 - val_accuracy: 0.3258\n",
            "Epoch 8/50\n",
            "166/166 [==============================] - 472s 3s/step - loss: 2.3547 - accuracy: 0.2443 - val_loss: 2.3864 - val_accuracy: 0.2978\n",
            "Epoch 9/50\n",
            "166/166 [==============================] - 476s 3s/step - loss: 2.3701 - accuracy: 0.2334 - val_loss: 2.4757 - val_accuracy: 0.3258\n",
            "Epoch 10/50\n",
            "166/166 [==============================] - 476s 3s/step - loss: 2.3486 - accuracy: 0.2636 - val_loss: 2.4359 - val_accuracy: 0.3708\n",
            "Epoch 11/50\n",
            "166/166 [==============================] - 474s 3s/step - loss: 2.3991 - accuracy: 0.2322 - val_loss: 1.9813 - val_accuracy: 0.4157\n",
            "Epoch 12/50\n",
            "166/166 [==============================] - 474s 3s/step - loss: 2.2800 - accuracy: 0.2793 - val_loss: 2.5478 - val_accuracy: 0.3539\n",
            "Epoch 13/50\n",
            "166/166 [==============================] - 474s 3s/step - loss: 2.2515 - accuracy: 0.2781 - val_loss: 2.4283 - val_accuracy: 0.3483\n",
            "Epoch 14/50\n",
            "166/166 [==============================] - 476s 3s/step - loss: 2.2137 - accuracy: 0.2902 - val_loss: 1.9206 - val_accuracy: 0.4719\n",
            "Epoch 15/50\n",
            "166/166 [==============================] - 480s 3s/step - loss: 2.2834 - accuracy: 0.2757 - val_loss: 2.5732 - val_accuracy: 0.3596\n",
            "Epoch 16/50\n",
            "166/166 [==============================] - 481s 3s/step - loss: 2.2079 - accuracy: 0.3059 - val_loss: 2.7117 - val_accuracy: 0.3371\n",
            "Epoch 17/50\n",
            "166/166 [==============================] - 481s 3s/step - loss: 2.2576 - accuracy: 0.3023 - val_loss: 2.4905 - val_accuracy: 0.3989\n",
            "Epoch 18/50\n",
            "166/166 [==============================] - 480s 3s/step - loss: 2.1956 - accuracy: 0.3108 - val_loss: 2.4029 - val_accuracy: 0.4101\n",
            "Epoch 19/50\n",
            "166/166 [==============================] - 479s 3s/step - loss: 2.2446 - accuracy: 0.2866 - val_loss: 2.4921 - val_accuracy: 0.3483\n"
          ]
        }
      ]
    },
    {
      "cell_type": "code",
      "source": [
        "acc1 = [0.] + history1.history['accuracy']\n",
        "val_acc1 = [0.] + history1.history['val_accuracy']\n",
        "\n",
        "acc2 = [0.] + history2.history['accuracy']\n",
        "val_acc2 = [0.] + history2.history['val_accuracy']\n",
        "\n",
        "plt.figure(figsize=(8, 8))\n",
        "plt.subplot(2, 1, 1)\n",
        "plt.plot(acc1, label='Training Accuracy (EfficientNet)')\n",
        "plt.plot(val_acc1, label='Validation Accuracy (EfficientNet)')\n",
        "plt.legend(loc='lower right')\n",
        "plt.ylabel('Accuracy')\n",
        "plt.ylim([min(plt.ylim()),1])\n",
        "plt.title('Training and Validation Accuracy for EfficientNet')\n",
        "\n",
        "plt.subplot(2, 1, 2)\n",
        "plt.plot(acc2, label='Training Accuracy (VGG)')\n",
        "plt.plot(val_acc2, label='Validation Accuracy (VGG)')\n",
        "plt.legend(loc='lower right')\n",
        "plt.ylabel('Accuracy')\n",
        "plt.ylim([min(plt.ylim()),1])\n",
        "plt.title('Training and Validation Accuracy for VGG')\n",
        "plt.xlabel('epoch')\n",
        "plt.show()"
      ],
      "metadata": {
        "colab": {
          "base_uri": "https://localhost:8080/",
          "height": 513
        },
        "id": "1I2cxorRiRq7",
        "outputId": "e47f98be-5bf3-46ea-9f5b-5aa3ae38c87a"
      },
      "execution_count": 15,
      "outputs": [
        {
          "output_type": "display_data",
          "data": {
            "text/plain": [
              "<Figure size 576x576 with 2 Axes>"
            ],
            "image/png": "[encoded data removed]"
          },
          "metadata": {
            "needs_background": "light"
          }
        }
      ]
    },
    {
      "cell_type": "markdown",
      "source": [
        "v. Report Precision, Recall, and F1 score for your model. Remember that this\n",
        "is a multi-class classification problem"
      ],
      "metadata": {
        "id": "DQ6i_QDIiGYf"
      }
    },
    {
      "cell_type": "code",
      "source": [
        "from tensorflow.keras.utils import to_categorical\n",
        "\n",
        "#model1\n",
        "ypred1 = model1.predict(test_dataset)\n",
        "ypred1_cat = to_categorical(np.argmax(ypred1, axis=1), num_classes = num_classes)\n",
        "\n",
        "#model2\n",
        "test_ds = test_dataset.map(preprocess)\n",
        "ypred2 =model2.predict(test_ds)\n",
        "ypred2_cat = to_categorical(np.argmax(ypred2, axis=1), num_classes = num_classes)"
      ],
      "metadata": {
        "colab": {
          "base_uri": "https://localhost:8080/"
        },
        "id": "_aw5qp7LEyV1",
        "outputId": "215f740a-0cb6-4827-aa04-c2a13d739d3e"
      },
      "execution_count": 16,
      "outputs": [
        {
          "output_type": "stream",
          "name": "stdout",
          "text": [
            "37/37 [==============================] - 13s 293ms/step\n",
            "37/37 [==============================] - 85s 2s/step\n"
          ]
        }
      ]
    },
    {
      "cell_type": "code",
      "source": [
        "from sklearn.metrics import classification_report\n",
        "y_true = np.concatenate([y for x, y in test_dataset], axis=0)\n",
        "\n",
        "#model 1\n",
        "print(classification_report(y_true, ypred1_cat, target_names=names[\"Folder\"]))"
      ],
      "metadata": {
        "colab": {
          "base_uri": "https://localhost:8080/"
        },
        "id": "IqibN387FsF3",
        "outputId": "56012460-5cf7-4b8a-9ff2-9ce01c4dc6fc"
      },
      "execution_count": 17,
      "outputs": [
        {
          "output_type": "stream",
          "name": "stdout",
          "text": [
            "                               precision    recall  f1-score   support\n",
            "\n",
            "           005.Crested_Auklet       0.78      0.88      0.82         8\n",
            "                 013.Bobolink       0.88      0.78      0.82         9\n",
            "           015.Lazuli_Bunting       0.83      1.00      0.91        10\n",
            "         023.Brandt_Cormorant       1.00      0.70      0.82        10\n",
            "   040.Olive_sided_Flycatcher       0.69      1.00      0.82         9\n",
            "041.Scissor_tailed_Flycatcher       1.00      0.78      0.88         9\n",
            "         067.Anna_Hummingbird       1.00      0.89      0.94         9\n",
            "          072.Pomarine_Jaeger       0.82      1.00      0.90         9\n",
            "          076.Dark_eyed_Junco       0.90      1.00      0.95         9\n",
            "          081.Pied_Kingfisher       1.00      0.89      0.94         9\n",
            "        082.Ringed_Kingfisher       1.00      0.89      0.94         9\n",
            "             086.Pacific_Loon       0.75      1.00      0.86         9\n",
            "                 099.Ovenbird       0.86      0.67      0.75         9\n",
            "           104.American_Pipit       0.64      0.78      0.70         9\n",
            "         127.Savannah_Sparrow       1.00      0.78      0.88         9\n",
            "             135.Bank_Swallow       1.00      0.60      0.75        10\n",
            "               141.Artic_Tern       1.00      0.90      0.95        10\n",
            "           149.Brown_Thrasher       0.89      0.80      0.84        10\n",
            "         156.White_eyed_Vireo       0.62      0.89      0.73         9\n",
            "         168.Kentucky_Warbler       0.90      0.90      0.90        10\n",
            "\n",
            "                    micro avg       0.85      0.85      0.85       185\n",
            "                    macro avg       0.88      0.86      0.85       185\n",
            "                 weighted avg       0.88      0.85      0.86       185\n",
            "                  samples avg       0.85      0.85      0.85       185\n",
            "\n"
          ]
        }
      ]
    },
    {
      "cell_type": "code",
      "source": [
        "#model 2\n",
        "print(classification_report(y_true, ypred2_cat, target_names=names[\"Folder\"]))"
      ],
      "metadata": {
        "colab": {
          "base_uri": "https://localhost:8080/"
        },
        "id": "V41J28nwKjQR",
        "outputId": "42119bea-77b1-4a9f-eec4-8e10af0bed97"
      },
      "execution_count": 18,
      "outputs": [
        {
          "output_type": "stream",
          "name": "stdout",
          "text": [
            "                               precision    recall  f1-score   support\n",
            "\n",
            "           005.Crested_Auklet       0.00      0.00      0.00         8\n",
            "                 013.Bobolink       0.50      0.33      0.40         9\n",
            "           015.Lazuli_Bunting       0.56      0.90      0.69        10\n",
            "         023.Brandt_Cormorant       0.00      0.00      0.00        10\n",
            "   040.Olive_sided_Flycatcher       0.00      0.00      0.00         9\n",
            "041.Scissor_tailed_Flycatcher       0.67      0.67      0.67         9\n",
            "         067.Anna_Hummingbird       0.46      0.67      0.55         9\n",
            "          072.Pomarine_Jaeger       0.86      0.67      0.75         9\n",
            "          076.Dark_eyed_Junco       0.25      0.11      0.15         9\n",
            "          081.Pied_Kingfisher       0.53      0.89      0.67         9\n",
            "        082.Ringed_Kingfisher       0.80      0.44      0.57         9\n",
            "             086.Pacific_Loon       0.42      0.56      0.48         9\n",
            "                 099.Ovenbird       0.29      0.22      0.25         9\n",
            "           104.American_Pipit       0.44      0.44      0.44         9\n",
            "         127.Savannah_Sparrow       0.50      0.22      0.31         9\n",
            "             135.Bank_Swallow       0.50      0.10      0.17        10\n",
            "               141.Artic_Tern       0.32      1.00      0.49        10\n",
            "           149.Brown_Thrasher       0.29      0.40      0.33        10\n",
            "         156.White_eyed_Vireo       0.67      0.44      0.53         9\n",
            "         168.Kentucky_Warbler       0.45      1.00      0.62        10\n",
            "\n",
            "                    micro avg       0.46      0.46      0.46       185\n",
            "                    macro avg       0.43      0.45      0.40       185\n",
            "                 weighted avg       0.43      0.46      0.41       185\n",
            "                  samples avg       0.46      0.46      0.46       185\n",
            "\n"
          ]
        }
      ]
    },
    {
      "cell_type": "markdown",
      "source": [
        "# References:\n",
        "https://stackoverflow.com/questions/69776068/how-do-i-move-a-percentage-of-files-70-15-15-split-to-different-directori <br>\n",
        "https://towardsdatascience.com/transfer-learning-with-vgg16-and-keras-50ea161580b4 <br>\n",
        "https://keras.io/examples/vision/image_classification_efficientnet_fine_tuning/ <br>\n",
        "https://stackoverflow.com/questions/61756206/how-do-i-get-keras-predictions-to-be-one-hot-encoded <br>\n"
      ],
      "metadata": {
        "id": "AT4y8FBa3GlA"
      }
    },
    {
      "cell_type": "code",
      "source": [],
      "metadata": {
        "id": "H7DKeiy63KCC"
      },
      "execution_count": 18,
      "outputs": []
    }
  ]
}